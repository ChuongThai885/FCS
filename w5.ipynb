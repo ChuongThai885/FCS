{
  "cells": [
    {
      "cell_type": "markdown",
      "metadata": {},
      "source": [
        "**Exercise 2**\n"
      ]
    },
    {
      "cell_type": "code",
      "execution_count": 2,
      "metadata": {},
      "outputs": [
        {
          "name": "stdout",
          "output_type": "stream",
          "text": [
            "Requirement already satisfied: pycryptodome in c:\\python311\\lib\\site-packages (3.21.0)\n"
          ]
        },
        {
          "name": "stderr",
          "output_type": "stream",
          "text": [
            "\n",
            "[notice] A new release of pip is available: 23.2.1 -> 24.3.1\n",
            "[notice] To update, run: python.exe -m pip install --upgrade pip\n"
          ]
        }
      ],
      "source": [
        "!pip install pycryptodome"
      ]
    },
    {
      "cell_type": "code",
      "execution_count": 19,
      "metadata": {},
      "outputs": [
        {
          "name": "stdout",
          "output_type": "stream",
          "text": [
            "a. result: 885c4ce846078dea93b799e0bab3e710c97b2e6400a34bbde36f48684376dda8\n",
            "b. swapped cipher text, plaintext shown as: b'*Foundations-CS*SUTD-MSSD-51.505'\n",
            "c. modified last bit, the plaintext now become: b'SUTD-MSSD-51.505\\xcb/\\x92k\\x86\\xc0T\\xa0\\\\O\\xf7\\x8cn\\xf8\\xd8\\xd6'\n"
          ]
        },
        {
          "data": {
            "text/plain": [
              "32"
            ]
          },
          "execution_count": 19,
          "metadata": {},
          "output_type": "execute_result"
        }
      ],
      "source": [
        "from Crypto.Cipher import AES\n",
        "import base64\n",
        "\n",
        "plaintext = b\"SUTD-MSSD-51.505*Foundations-CS*\"\n",
        "key = b\"\\x00\\x00\\x00\\x00\\x00\\x00\\x00\\x00\\x00\\x00\\x00\\x00\\x00\\x00\\x00\\x00\"\n",
        "# a. encrypt data\n",
        "cipher = AES.new(key, AES.MODE_ECB)\n",
        "cipher_text = cipher.encrypt(plaintext)\n",
        "print(\"a. result:\", cipher_text.hex())\n",
        "\n",
        "# b. swap 2 blocks of encrypt data\n",
        "swapped_cipher_text = cipher_text[AES.block_size :] + cipher_text[: AES.block_size]\n",
        "swapped_plaintext = cipher.decrypt(swapped_cipher_text)\n",
        "print(\"b. swapped cipher text, plaintext shown as:\", swapped_plaintext)\n",
        "\n",
        "# c. change the last bit of cipher text\n",
        "# cipher_text[-1] is an integer represent for the last byte of cipher_text\n",
        "# xor 1 to change the last it (1 to 0, 0 to 1)\n",
        "modified_last_byte = cipher_text[-1] ^ 1\n",
        "plaintext_modified = cipher.decrypt(cipher_text[:-1] + modified_last_byte.to_bytes())\n",
        "print(\"c. modified last bit, the plaintext now become:\", plaintext_modified)\n",
        "\n",
        "len(cipher_text)"
      ]
    },
    {
      "cell_type": "markdown",
      "metadata": {
        "id": "8doJCYR2SYqe"
      },
      "source": [
        "**Exercise 3**\n",
        "\n",
        "The ciphertext (in hex)\n",
        "\n",
        "```\n",
        "87 F3 48 FF 79 B8 11 AF 38 57 D6 71 8E 5F 0F 91\n",
        "7C 3D 26 F7 73 77 63 5A 5E 43 E9 B5 CC 5D 05 92\n",
        "6E 26 FF C5 22 0D C7 D4 05 F1 70 86 70 E6 E0 17\n",
        "```\n",
        "\n",
        "was generated with the 256-bit AES key (also hex)\n",
        "\n",
        "```\n",
        "80 00 00 00 00 00 00 00 00 00 00 00 00 00 00 00\n",
        "00 00 00 00 00 00 00 00 00 00 00 00 00 00 00 01\n",
        "```\n",
        "\n",
        "using CBC mode with a random IV. The IV is included at the beginning of the\n",
        "ciphertext. Decrypt this ciphertext. You may use an existing crypto library for this\n",
        "exercise.\n"
      ]
    },
    {
      "cell_type": "code",
      "execution_count": 2,
      "metadata": {
        "colab": {
          "base_uri": "https://localhost:8080/"
        },
        "id": "M1frOV1FSYqh",
        "outputId": "658938e6-d4d3-4176-f4d2-f018cd1c359c"
      },
      "outputs": [
        {
          "name": "stdout",
          "output_type": "stream",
          "text": [
            "Requirement already satisfied: pycryptodome in /usr/local/lib/python3.10/dist-packages (3.21.0)\n"
          ]
        }
      ],
      "source": [
        "!pip install pycryptodome"
      ]
    },
    {
      "cell_type": "code",
      "execution_count": 16,
      "metadata": {
        "colab": {
          "base_uri": "https://localhost:8080/",
          "height": 36
        },
        "id": "FVVMoyw3ShRO",
        "outputId": "f7de2221-88b3-4917-e9ec-bf0951194272"
      },
      "outputs": [
        {
          "data": {
            "application/vnd.google.colaboratory.intrinsic+json": {
              "type": "string"
            },
            "text/plain": [
              "'Another secret!  And another.   '"
            ]
          },
          "execution_count": 16,
          "metadata": {},
          "output_type": "execute_result"
        }
      ],
      "source": [
        "from Crypto.Cipher import AES\n",
        "\n",
        "ciphertext = bytes.fromhex(\n",
        "    \"87 F3 48 FF 79 B8 11 AF 38 57 D6 71 8E 5F 0F 91\"\n",
        "    \"7C 3D 26 F7 73 77 63 5A 5E 43 E9 B5 CC 5D 05 92\"\n",
        "    \"6E 26 FF C5 22 0D C7 D4 05 F1 70 86 70 E6 E0 17\"\n",
        ")\n",
        "# extract iv from ciphertext\n",
        "iv = ciphertext[:16]\n",
        "# extract actual ciphertext\n",
        "actual_ciphertext = ciphertext[16:]\n",
        "\n",
        "# AES-256 key in hex\n",
        "key = bytes.fromhex(\n",
        "    \"80 00 00 00 00 00 00 00 00 00 00 00 00 00 00 00\"\n",
        "    \"00 00 00 00 00 00 00 00 00 00 00 00 00 00 00 01\"\n",
        ")\n",
        "\n",
        "\n",
        "def decode_aes_cbc(ciphertext, key, iv):\n",
        "    cipher = AES.new(key, AES.MODE_CBC, iv)\n",
        "    return cipher.decrypt(ciphertext).decode()\n",
        "\n",
        "\n",
        "decode_aes_cbc(actual_ciphertext, key, iv)"
      ]
    },
    {
      "cell_type": "markdown",
      "metadata": {
        "id": "Y-JSf1BdgUbk"
      },
      "source": [
        "**Exercise 4**\n",
        "\n",
        "An adversary observes the communication encrypted using CTR mode with the\n",
        "same (nonce, counter) pair. The nonce is hardcoded, so it is not included in the\n",
        "ciphertext. The adversary knows the following 16-byte ciphertext C\n",
        "\n",
        "```\n",
        "46 64 DC 06 97 BB FE 69 33 07 15 07 9B A6 C2 3D,\n",
        "```\n",
        "\n",
        "the following 16-byte ciphertext C'\n",
        "\n",
        "```\n",
        "51 7E CC 05 C3 BD EA 3B 33 57 0E 1B D8 97 D5 30\n",
        "```\n",
        "\n",
        "and the plaintext P corresponding to C\n",
        "\n",
        "```\n",
        "43 72 79 70 74 6F 67 72 61 70 68 79 20 43 72 79.\n",
        "```\n",
        "\n",
        "What information, if any, can the adversary infer about the plaintext P (corresponding to sponding to C')?\n"
      ]
    },
    {
      "cell_type": "code",
      "execution_count": 8,
      "metadata": {
        "colab": {
          "base_uri": "https://localhost:8080/"
        },
        "id": "4Dulz89ahRt-",
        "outputId": "f2874263-2159-4e51-9ef1-4b457aad1b19"
      },
      "outputs": [
        {
          "name": "stdout",
          "output_type": "stream",
          "text": [
            "This is a secret\n"
          ]
        }
      ],
      "source": [
        "# XOR 2 bytes\n",
        "def byte_xor(a, b):\n",
        "    return bytes([_a ^ _b for _a, _b in zip(a, b)])\n",
        "\n",
        "\n",
        "# convert c, c' to bytes\n",
        "ciphertext1 = bytes.fromhex(\"46 64 DC 06 97 BB FE 69 33 07 15 07 9B A6 C2 3D\")\n",
        "ciphertext2 = bytes.fromhex(\"51 7E CC 05 C3 BD EA 3B 33 57 0E 1B D8 97 D5 30\")\n",
        "# convert p to bytes\n",
        "plaintext1 = bytes.fromhex(\"43 72 79 70 74 6F 67 72 61 70 68 79 20 43 72 79\")\n",
        "\n",
        "# we have formula as c XOR c' = p XOR p'\n",
        "# => p' = c XOR c' XOR p\n",
        "cipher_xor = byte_xor(ciphertext1, ciphertext2)\n",
        "\n",
        "plaintext2 = byte_xor(cipher_xor, plaintext1)\n",
        "\n",
        "print(plaintext2.decode())"
      ]
    }
  ],
  "metadata": {
    "colab": {
      "provenance": []
    },
    "kernelspec": {
      "display_name": "Python 3",
      "language": "python",
      "name": "python3"
    },
    "language_info": {
      "codemirror_mode": {
        "name": "ipython",
        "version": 3
      },
      "file_extension": ".py",
      "mimetype": "text/x-python",
      "name": "python",
      "nbconvert_exporter": "python",
      "pygments_lexer": "ipython3",
      "version": "3.11.5"
    }
  },
  "nbformat": 4,
  "nbformat_minor": 0
}
