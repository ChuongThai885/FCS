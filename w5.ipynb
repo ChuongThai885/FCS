{
 "cells": [
  {
   "cell_type": "markdown",
   "metadata": {},
   "source": [
    "**Exercise 3**\n",
    "\n",
    "The ciphertext (in hex)\n",
    "\n",
    "```\n",
    "87 F3 48 FF 79 B8 11 AF 38 57 D6 71 8E 5F 0F 91\n",
    "7C 3D 26 F7 73 77 63 5A 5E 43 E9 B5 CC 5D 05 92\n",
    "6E 26 FF C5 22 0D C7 D4 05 F1 70 86 70 E6 E0 17\n",
    "```\n",
    "\n",
    "was generated with the 256-bit AES key (also hex)\n",
    "\n",
    "```\n",
    "80 00 00 00 00 00 00 00 00 00 00 00 00 00 00 00\n",
    "00 00 00 00 00 00 00 00 00 00 00 00 00 00 00 01\n",
    "```\n",
    "\n",
    "using CBC mode with a random IV. The IV is included at the beginning of the\n",
    "ciphertext. Decrypt this ciphertext. You may use an existing crypto library for this\n",
    "exercise.\n"
   ]
  },
  {
   "cell_type": "code",
   "execution_count": 1,
   "metadata": {},
   "outputs": [
    {
     "name": "stdout",
     "output_type": "stream",
     "text": [
      "Requirement already satisfied: pycryptodome in c:\\python311\\lib\\site-packages (3.21.0)\n"
     ]
    },
    {
     "name": "stderr",
     "output_type": "stream",
     "text": [
      "\n",
      "[notice] A new release of pip is available: 23.2.1 -> 24.3.1\n",
      "[notice] To update, run: python.exe -m pip install --upgrade pip\n"
     ]
    }
   ],
   "source": [
    "!pip install pycryptodome"
   ]
  }
 ],
 "metadata": {
  "kernelspec": {
   "display_name": "Python 3",
   "language": "python",
   "name": "python3"
  },
  "language_info": {
   "codemirror_mode": {
    "name": "ipython",
    "version": 3
   },
   "file_extension": ".py",
   "mimetype": "text/x-python",
   "name": "python",
   "nbconvert_exporter": "python",
   "pygments_lexer": "ipython3",
   "version": "3.11.5"
  }
 },
 "nbformat": 4,
 "nbformat_minor": 2
}
