{
  "cells": [
    {
      "cell_type": "markdown",
      "metadata": {
        "id": "8doJCYR2SYqe"
      },
      "source": [
        "**Exercise 3**\n",
        "\n",
        "The ciphertext (in hex)\n",
        "\n",
        "```\n",
        "87 F3 48 FF 79 B8 11 AF 38 57 D6 71 8E 5F 0F 91\n",
        "7C 3D 26 F7 73 77 63 5A 5E 43 E9 B5 CC 5D 05 92\n",
        "6E 26 FF C5 22 0D C7 D4 05 F1 70 86 70 E6 E0 17\n",
        "```\n",
        "\n",
        "was generated with the 256-bit AES key (also hex)\n",
        "\n",
        "```\n",
        "80 00 00 00 00 00 00 00 00 00 00 00 00 00 00 00\n",
        "00 00 00 00 00 00 00 00 00 00 00 00 00 00 00 01\n",
        "```\n",
        "\n",
        "using CBC mode with a random IV. The IV is included at the beginning of the\n",
        "ciphertext. Decrypt this ciphertext. You may use an existing crypto library for this\n",
        "exercise.\n"
      ]
    },
    {
      "cell_type": "code",
      "execution_count": 2,
      "metadata": {
        "id": "M1frOV1FSYqh",
        "outputId": "658938e6-d4d3-4176-f4d2-f018cd1c359c",
        "colab": {
          "base_uri": "https://localhost:8080/"
        }
      },
      "outputs": [
        {
          "output_type": "stream",
          "name": "stdout",
          "text": [
            "Requirement already satisfied: pycryptodome in /usr/local/lib/python3.10/dist-packages (3.21.0)\n"
          ]
        }
      ],
      "source": [
        "!pip install pycryptodome"
      ]
    },
    {
      "cell_type": "code",
      "source": [
        "from Crypto.Cipher import AES\n",
        "\n",
        "ciphertext = bytes.fromhex(\n",
        "    \"87 F3 48 FF 79 B8 11 AF 38 57 D6 71 8E 5F 0F 91\"\n",
        "    \"7C 3D 26 F7 73 77 63 5A 5E 43 E9 B5 CC 5D 05 92\"\n",
        "    \"6E 26 FF C5 22 0D C7 D4 05 F1 70 86 70 E6 E0 17\"\n",
        ")\n",
        "# extract iv from ciphertext\n",
        "iv = ciphertext[:16]\n",
        "# extract actual ciphertext\n",
        "actual_ciphertext = ciphertext[16:]\n",
        "\n",
        "# AES-256 key in hex\n",
        "key = bytes.fromhex(\n",
        "    \"80 00 00 00 00 00 00 00 00 00 00 00 00 00 00 00\"\n",
        "    \"00 00 00 00 00 00 00 00 00 00 00 00 00 00 00 01\"\n",
        ")\n",
        "\n",
        "def decode_aes_cbc(ciphertext, key, iv):\n",
        "    cipher = AES.new(key, AES.MODE_CBC, iv)\n",
        "    return cipher.decrypt(ciphertext).decode()\n",
        "\n",
        "decode_aes_cbc(actual_ciphertext, key, iv)"
      ],
      "metadata": {
        "id": "FVVMoyw3ShRO",
        "outputId": "f7de2221-88b3-4917-e9ec-bf0951194272",
        "colab": {
          "base_uri": "https://localhost:8080/",
          "height": 36
        }
      },
      "execution_count": 16,
      "outputs": [
        {
          "output_type": "execute_result",
          "data": {
            "text/plain": [
              "'Another secret!  And another.   '"
            ],
            "application/vnd.google.colaboratory.intrinsic+json": {
              "type": "string"
            }
          },
          "metadata": {},
          "execution_count": 16
        }
      ]
    }
  ],
  "metadata": {
    "kernelspec": {
      "display_name": "Python 3",
      "language": "python",
      "name": "python3"
    },
    "language_info": {
      "codemirror_mode": {
        "name": "ipython",
        "version": 3
      },
      "file_extension": ".py",
      "mimetype": "text/x-python",
      "name": "python",
      "nbconvert_exporter": "python",
      "pygments_lexer": "ipython3",
      "version": "3.11.5"
    },
    "colab": {
      "provenance": []
    }
  },
  "nbformat": 4,
  "nbformat_minor": 0
}