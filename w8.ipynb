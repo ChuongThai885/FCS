{
 "cells": [
  {
   "cell_type": "markdown",
   "metadata": {},
   "source": [
    "**Exercise 3**\n",
    "<br/>\n",
    "For H8 and H16, find a preimage of the corresponding hashes: \"\\00\" and \"\\00\"\\*2.\n",
    "Measure how long it takes to find a preimage.\n"
   ]
  },
  {
   "cell_type": "code",
   "execution_count": 1,
   "metadata": {},
   "outputs": [
    {
     "name": "stdout",
     "output_type": "stream",
     "text": [
      "Found collision of H8 after 61 attempt and 0.000997 milliseconds\n",
      "Found collision of H16 after 288946 attempt and 0.377740 milliseconds\n"
     ]
    }
   ],
   "source": [
    "import hashlib\n",
    "import time\n",
    "\n",
    "# the target value of the question\n",
    "h8_target = b\"\\00\"\n",
    "h16_target = b\"\\x00\" * 2\n",
    "\n",
    "\n",
    "def find_collision_h8(target):\n",
    "    # attempting number\n",
    "    attempt = 0\n",
    "    # start counting execute time\n",
    "    start_time = time.time()\n",
    "    while True:\n",
    "        # get the byte value of attempting time\n",
    "        value_in_byte = str(attempt).encode()\n",
    "        # hash the value of attempting time to byte then take the first value (take 1 byte = 8 bits)\n",
    "        hash_value = hashlib.sha512(value_in_byte).digest()[:1]\n",
    "        # if hash_value the same with target, stop the timer and break the loop\n",
    "        if target == hash_value:\n",
    "            end_time = time.time()\n",
    "            print(\n",
    "                f\"Found collision of H8 after {attempt} attempt and {end_time - start_time:.6f} milliseconds\"\n",
    "            )\n",
    "            break\n",
    "        # increasing the attempting value if can not find the collision\n",
    "        attempt += 1\n",
    "\n",
    "\n",
    "def find_collision_h16(target):\n",
    "    # attempting number\n",
    "    attempt = 0\n",
    "    # start counting execute time\n",
    "    start_time = time.time()\n",
    "    while True:\n",
    "        # get the byte value of attempting time\n",
    "        value_in_byte = str(attempt).encode()\n",
    "        # hash the value of attempting time to byte then take the first value (take 1 byte = 8 bits)\n",
    "        hash_value = hashlib.sha512(value_in_byte).digest()[:2]\n",
    "        # if hash_value the same with target, stop the timer and break the loop\n",
    "        if target == hash_value:\n",
    "            end_time = time.time()\n",
    "            print(\n",
    "                f\"Found collision of H16 after {attempt} attempt and {end_time - start_time:.6f} milliseconds\"\n",
    "            )\n",
    "            break\n",
    "        # increasing the attempting value if can not find the collision\n",
    "        attempt += 1\n",
    "\n",
    "\n",
    "find_collision_h8(h8_target)\n",
    "find_collision_h16(h16_target)"
   ]
  },
  {
   "cell_type": "markdown",
   "metadata": {},
   "source": [
    "**Exercise 4**\n",
    "<br/>\n",
    "Find two messages that produce the same tag for AES-based CBC-MAC. Show code\n",
    "to demonstrate that\n"
   ]
  },
  {
   "cell_type": "code",
   "execution_count": 4,
   "metadata": {},
   "outputs": [
    {
     "name": "stdout",
     "output_type": "stream",
     "text": [
      "Requirement already satisfied: pycryptodome in c:\\python311\\lib\\site-packages (3.21.0)\n"
     ]
    },
    {
     "name": "stderr",
     "output_type": "stream",
     "text": [
      "\n",
      "[notice] A new release of pip is available: 23.2.1 -> 24.3.1\n",
      "[notice] To update, run: python.exe -m pip install --upgrade pip\n"
     ]
    }
   ],
   "source": [
    "!pip install pycryptodome"
   ]
  },
  {
   "cell_type": "code",
   "execution_count": 7,
   "metadata": {},
   "outputs": [
    {
     "name": "stdout",
     "output_type": "stream",
     "text": [
      "Message a:  74ddee44f9d09dff5093055d6e8e6256e7b3905844ac223ca856f05e4467c20a\n",
      "MAC a:      4f141fbd65a09cd7268d34ad5d4e7828\n",
      "Message b:  9d708aaace1a0080cf80f98f71f486d375eaa8fb7178dd9fa40f2e0c05b97c9a\n",
      "MAC b:      4f141fbd65a09cd7268d34ad5d4e7828\n"
     ]
    }
   ],
   "source": [
    "from Crypto.Cipher import AES\n",
    "from Crypto.Random import get_random_bytes\n",
    "\n",
    "# In this answer we just using AES based CBC MAC, so the length will be a constant\n",
    "BLOCK_SIZE = AES.block_size\n",
    "\n",
    "\n",
    "# Encrypt message with CBC\n",
    "def encrypt_aes_cbc(key, message):\n",
    "    IV = bytes(BLOCK_SIZE)\n",
    "    cipher = AES.new(key, AES.MODE_CBC, IV)\n",
    "    return cipher.encrypt(message)\n",
    "\n",
    "\n",
    "# Generate MAC tag for message with CBC\n",
    "def generate_aes_cbc_mac_tag(key, message):\n",
    "    cipher_text = encrypt_aes_cbc(key, message)\n",
    "    # tag of MAC is the last {BLOCK_SIZE} bit of cipher text\n",
    "    tag = cipher_text[-BLOCK_SIZE:]\n",
    "    return tag\n",
    "\n",
    "\n",
    "# XOR 2 bytes\n",
    "def byte_xor(a, b):\n",
    "    return bytes([_a ^ _b for _a, _b in zip(a, b)])\n",
    "\n",
    "\n",
    "# Generate a random key with 16 bytes length\n",
    "key = get_random_bytes(16)\n",
    "\n",
    "# Generate message a with 32 bytes length\n",
    "# a1: first block with 16 bytes length\n",
    "# a2: first block with 16 bytes length\n",
    "a1 = get_random_bytes(16)\n",
    "a2 = get_random_bytes(16)\n",
    "a = a1 + a2\n",
    "\n",
    "# b1: first block with 16 bytes length of message b\n",
    "b1 = get_random_bytes(16)\n",
    "\n",
    "# Encrypt a1 with CBC\n",
    "a1_encrypted = encrypt_aes_cbc(key, a1)\n",
    "# Encrypt b1 with CBC\n",
    "b1_encrypted = encrypt_aes_cbc(key, b1)\n",
    "\n",
    "# XOR the a1_encrypted with b1_encrypted\n",
    "xor_encryptions = byte_xor(a1_encrypted, b1_encrypted)\n",
    "\n",
    "# Calculate b2 by XOR a2 with xor_encryptions\n",
    "b2 = byte_xor(xor_encryptions, a2)\n",
    "\n",
    "# concatenate b1 and b2 to get message b\n",
    "b = b1 + b2\n",
    "# show the result\n",
    "print(\"Message a: \", a.hex())\n",
    "print(\"MAC a:     \", generate_aes_cbc_mac_tag(key, a).hex())\n",
    "print(\"Message b: \", b.hex())\n",
    "print(\"MAC b:     \", generate_aes_cbc_mac_tag(key, b).hex())"
   ]
  }
 ],
 "metadata": {
  "kernelspec": {
   "display_name": "Python 3",
   "language": "python",
   "name": "python3"
  },
  "language_info": {
   "codemirror_mode": {
    "name": "ipython",
    "version": 3
   },
   "file_extension": ".py",
   "mimetype": "text/x-python",
   "name": "python",
   "nbconvert_exporter": "python",
   "pygments_lexer": "ipython3",
   "version": "3.11.5"
  }
 },
 "nbformat": 4,
 "nbformat_minor": 2
}
