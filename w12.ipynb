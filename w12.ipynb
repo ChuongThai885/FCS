{
  "cells": [
    {
      "cell_type": "markdown",
      "metadata": {
        "id": "S1bHbRDujlh-"
      },
      "source": [
        "**Exercise 2**\n",
        "<br/>\n",
        "Design and implement a simple digital certificate framework. Your framework should\n",
        "allow to create a certificate chain and validate it. (Suppose there are 3 CAs to form\n",
        "a certificate chain.)\n"
      ]
    },
    {
      "cell_type": "code",
      "execution_count": 5,
      "metadata": {
        "id": "gS-1aOpkjliA",
        "outputId": "7c1d7af4-80c1-4cfb-cf3b-82f684b5b2cb",
        "colab": {
          "base_uri": "https://localhost:8080/"
        }
      },
      "outputs": [
        {
          "output_type": "stream",
          "name": "stdout",
          "text": [
            "Requirement already satisfied: rsa in /usr/local/lib/python3.10/dist-packages (4.9)\n",
            "Requirement already satisfied: pyasn1>=0.1.3 in /usr/local/lib/python3.10/dist-packages (from rsa) (0.6.1)\n"
          ]
        }
      ],
      "source": [
        "!pip install rsa"
      ]
    },
    {
      "cell_type": "code",
      "execution_count": 7,
      "metadata": {
        "id": "Y-LhZw8qjliB"
      },
      "outputs": [],
      "source": [
        "import rsa\n",
        "import datetime\n",
        "from cryptography import x509"
      ]
    }
  ],
  "metadata": {
    "kernelspec": {
      "display_name": "Python 3",
      "language": "python",
      "name": "python3"
    },
    "language_info": {
      "codemirror_mode": {
        "name": "ipython",
        "version": 3
      },
      "file_extension": ".py",
      "mimetype": "text/x-python",
      "name": "python",
      "nbconvert_exporter": "python",
      "pygments_lexer": "ipython3",
      "version": "3.11.5"
    },
    "colab": {
      "provenance": []
    }
  },
  "nbformat": 4,
  "nbformat_minor": 0
}