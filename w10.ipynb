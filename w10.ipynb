{
 "cells": [
  {
   "cell_type": "markdown",
   "metadata": {
    "id": "eDBm9GSziYy4"
   },
   "source": [
    "**Exercise 1**\n",
    "<br/>\n",
    "Compute the result of 12358 * 1854 * 14303 (mod 29101) in two ways and verify the equivalence: 1) by reducing modulo 29101 after each multiplication, and 2) by computing the entire product first and then reducing modulo 29101."
   ]
  },
  {
   "cell_type": "code",
   "execution_count": null,
   "metadata": {
    "colab": {
     "base_uri": "https://localhost:8080/"
    },
    "id": "Ri-WUUbCiYy5",
    "outputId": "6b287eb5-3a06-4a99-a255-1fce395fc66c"
   },
   "outputs": [
    {
     "name": "stdout",
     "output_type": "stream",
     "text": [
      "first way, result is 25392, cost 0.000123\n"
     ]
    }
   ],
   "source": [
    "import time\n",
    "\n",
    "a= 12358\n",
    "b = 1854\n",
    "c=14303\n",
    "p = 29101\n",
    "\n",
    "# first way\n",
    "start_time = time.time()\n",
    "result = (a*b) % p\n",
    "result = (result * c ) % p\n",
    "end_time = time.time()\n",
    "\n",
    "print(f\"first way, result is {result}, cost {end_time - start_time:6f}\")\n",
    "\n",
    "#hehehe"
   ]
  }
 ],
 "metadata": {
  "colab": {
   "provenance": []
  },
  "kernelspec": {
   "display_name": "Python 3",
   "language": "python",
   "name": "python3"
  },
  "language_info": {
   "codemirror_mode": {
    "name": "ipython",
    "version": 3
   },
   "file_extension": ".py",
   "mimetype": "text/x-python",
   "name": "python",
   "nbconvert_exporter": "python",
   "pygments_lexer": "ipython3",
   "version": "3.12.5"
  }
 },
 "nbformat": 4,
 "nbformat_minor": 0
}
