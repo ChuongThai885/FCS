{
  "cells": [
    {
      "cell_type": "markdown",
      "metadata": {
        "id": "eDBm9GSziYy4"
      },
      "source": [
        "**Exercise 1**\n",
        "<br/>\n",
        "Compute the result of 12358 _ 1854 _ 14303 (mod 29101) in two ways and verify the equivalence: 1) by reducing modulo 29101 after each multiplication, and 2) by computing the entire product first and then reducing modulo 29101.\n"
      ]
    },
    {
      "cell_type": "code",
      "execution_count": 1,
      "metadata": {
        "colab": {
          "base_uri": "https://localhost:8080/"
        },
        "id": "Ri-WUUbCiYy5",
        "outputId": "d50bdcc6-a03e-4a18-8562-2cf1f7da7ab9"
      },
      "outputs": [
        {
          "output_type": "stream",
          "name": "stdout",
          "text": [
            "first way, result is 25392, cost 0.000139\n",
            "second way, result is 25392, cost 0.000099\n"
          ]
        }
      ],
      "source": [
        "import time\n",
        "\n",
        "a = 12358\n",
        "b = 1854\n",
        "c = 14303\n",
        "p = 29101\n",
        "\n",
        "# 1) by reducing modulo 29101 after each multiplication\n",
        "start_time = time.time()\n",
        "result = (a * b) % p\n",
        "result = (result * c) % p\n",
        "end_time = time.time()\n",
        "\n",
        "print(f\"first way, result is {result}, cost {end_time - start_time:6f}\")\n",
        "\n",
        "# 2) by computing the entire product first and then reducing modulo 29101.\n",
        "\n",
        "start_time = time.time()\n",
        "result = (a * b * c) % p\n",
        "end_time = time.time()\n",
        "\n",
        "print(f\"second way, result is {result}, cost {end_time - start_time:6f}\")"
      ]
    },
    {
      "cell_type": "markdown",
      "metadata": {
        "id": "MyZgMbk0DbJ0"
      },
      "source": [
        "**Conclusion**\n",
        "\n",
        "- For both ways, the result still the same\n",
        "- With large number, the first way will be more efficiency than the second\n"
      ]
    },
    {
      "cell_type": "markdown",
      "metadata": {
        "id": "eJS92UkVDbJ0"
      },
      "source": [
        "**Exercise 2**\n",
        "<br/>\n",
        "Implement the Diffie-Hellman protocol\n"
      ]
    },
    {
      "cell_type": "code",
      "execution_count": 2,
      "metadata": {
        "colab": {
          "base_uri": "https://localhost:8080/"
        },
        "id": "M7YGaOFdDbJ0",
        "outputId": "7373e550-bb7e-4b76-f850-03b883f943e9"
      },
      "outputs": [
        {
          "output_type": "stream",
          "name": "stdout",
          "text": [
            "Alice's private key: 11\n",
            "Bob's private key: 67\n",
            "Alice's public key: 54\n",
            "Bob's public key: 709\n",
            "Alice's shared secret: 511\n",
            "Bob's shared secret: 511\n"
          ]
        }
      ],
      "source": [
        "import random\n",
        "\n",
        "# Choose a large prime number (p) and a primitive root modulo p (g)\n",
        "p = 997\n",
        "g = 2\n",
        "\n",
        "# Each party chooses a private key\n",
        "a = random.randint(1, p - 1)\n",
        "b = random.randint(1, p - 1)\n",
        "print(f\"Alice's private key: {a}\")\n",
        "print(f\"Bob's private key: {b}\")\n",
        "\n",
        "A = pow(g, a, p)\n",
        "B = pow(g, b , p)\n",
        "\n",
        "print(f\"Alice's public key: {A}\")\n",
        "print(f\"Bob's public key: {B}\")\n",
        "\n",
        "K_A = pow(B, a, p)\n",
        "K_B = pow(A, b, p)\n",
        "\n",
        "print(f\"Alice's shared secret: {K_A}\")\n",
        "print(f\"Bob's shared secret: {K_B}\")"
      ]
    },
    {
      "cell_type": "markdown",
      "metadata": {
        "id": "9v-cE15UDbJ0"
      },
      "source": [
        "**Exercise 3**\n",
        "<br/>\n",
        "Implement the RSA encryption scheme from scratch. Use the following interface:\n",
        "- Gen(minPrime) generates a public/private keypair where p, q > minPrime.\n",
        "- Enc(pubKey, msg) returns ctxt (integer).\n",
        "- Dec(privKey, ctxt) returns msg (integer)."
      ]
    },
    {
      "cell_type": "code",
      "source": [
        "import random\n",
        "from math import gcd\n",
        "\n",
        "# Function to validate number is prime or not\n",
        "def is_prime(n):\n",
        "  if n <=1:\n",
        "    return False\n",
        "  for i in range (2, int(n**(1/2))+1):\n",
        "    if n % i ==0:\n",
        "      return False\n",
        "    return True"
      ],
      "metadata": {
        "id": "9TefXnFYbzpe"
      },
      "execution_count": 1,
      "outputs": []
    }
  ],
  "metadata": {
    "colab": {
      "provenance": []
    },
    "kernelspec": {
      "display_name": "Python 3",
      "language": "python",
      "name": "python3"
    },
    "language_info": {
      "codemirror_mode": {
        "name": "ipython",
        "version": 3
      },
      "file_extension": ".py",
      "mimetype": "text/x-python",
      "name": "python",
      "nbconvert_exporter": "python",
      "pygments_lexer": "ipython3",
      "version": "3.12.5"
    }
  },
  "nbformat": 4,
  "nbformat_minor": 0
}