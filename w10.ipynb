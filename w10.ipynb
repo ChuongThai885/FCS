{
 "cells": [
  {
   "cell_type": "markdown",
   "metadata": {
    "id": "eDBm9GSziYy4"
   },
   "source": [
    "**Exercise 1**\n",
    "<br/>\n",
    "Compute the result of 12358 _ 1854 _ 14303 (mod 29101) in two ways and verify the equivalence: 1) by reducing modulo 29101 after each multiplication, and 2) by computing the entire product first and then reducing modulo 29101.\n"
   ]
  },
  {
   "cell_type": "code",
   "execution_count": 1,
   "metadata": {
    "colab": {
     "base_uri": "https://localhost:8080/"
    },
    "id": "Ri-WUUbCiYy5",
    "outputId": "d50bdcc6-a03e-4a18-8562-2cf1f7da7ab9"
   },
   "outputs": [
    {
     "name": "stdout",
     "output_type": "stream",
     "text": [
      "first way, result is 25392, cost 0.000139\n",
      "second way, result is 25392, cost 0.000099\n"
     ]
    }
   ],
   "source": [
    "import time\n",
    "\n",
    "a = 12358\n",
    "b = 1854\n",
    "c = 14303\n",
    "p = 29101\n",
    "\n",
    "# 1) by reducing modulo 29101 after each multiplication\n",
    "start_time = time.time()\n",
    "result = (a * b) % p\n",
    "result = (result * c) % p\n",
    "end_time = time.time()\n",
    "\n",
    "print(f\"first way, result is {result}, cost {end_time - start_time:6f}\")\n",
    "\n",
    "# 2) by computing the entire product first and then reducing modulo 29101.\n",
    "\n",
    "start_time = time.time()\n",
    "result = (a * b * c) % p\n",
    "end_time = time.time()\n",
    "\n",
    "print(f\"second way, result is {result}, cost {end_time - start_time:6f}\")"
   ]
  },
  {
   "cell_type": "markdown",
   "metadata": {
    "id": "MyZgMbk0DbJ0"
   },
   "source": [
    "**Conclusion**\n",
    "\n",
    "- For both ways, the result still the same\n",
    "- With large number, the first way will be more efficiency than the second\n"
   ]
  },
  {
   "cell_type": "markdown",
   "metadata": {
    "id": "eJS92UkVDbJ0"
   },
   "source": [
    "**Exercise 2**\n",
    "<br/>\n",
    "Implement the Diffie-Hellman protocol\n"
   ]
  },
  {
   "cell_type": "code",
   "execution_count": null,
   "metadata": {
    "colab": {
     "base_uri": "https://localhost:8080/"
    },
    "id": "M7YGaOFdDbJ0",
    "outputId": "7373e550-bb7e-4b76-f850-03b883f943e9"
   },
   "outputs": [
    {
     "name": "stdout",
     "output_type": "stream",
     "text": [
      "Alice's private key: 11\n",
      "Bob's private key: 67\n",
      "Alice's public key: 54\n",
      "Bob's public key: 709\n",
      "Alice's shared secret: 511\n",
      "Bob's shared secret: 511\n"
     ]
    }
   ],
   "source": [
    "import random\n",
    "\n",
    "# Choose a large prime number (p) and a primitive root modulo p (g)\n",
    "p = 997\n",
    "g = 2\n",
    "\n",
    "# Each party chooses a private key\n",
    "a = random.randint(1, p - 1)\n",
    "b = random.randint(1, p - 1)\n",
    "print(f\"Alice's private key: {a}\")\n",
    "print(f\"Bob's private key: {b}\")\n",
    "\n",
    "A = pow(g, a, p)\n",
    "B = pow(g, b, p)\n",
    "\n",
    "print(f\"Alice's public key: {A}\")\n",
    "print(f\"Bob's public key: {B}\")\n",
    "\n",
    "K_A = pow(B, a, p)\n",
    "K_B = pow(A, b, p)\n",
    "\n",
    "print(f\"Alice's shared secret: {K_A}\")\n",
    "print(f\"Bob's shared secret: {K_B}\")"
   ]
  },
  {
   "cell_type": "markdown",
   "metadata": {
    "id": "9v-cE15UDbJ0"
   },
   "source": [
    "**Exercise 3**\n",
    "<br/>\n",
    "Implement the RSA encryption scheme from scratch. Use the following interface:\n",
    "\n",
    "- Gen(minPrime) generates a public/private keypair where p, q > minPrime.\n",
    "- Enc(pubKey, msg) returns ctxt (integer).\n",
    "- Dec(privKey, ctxt) returns msg (integer).\n"
   ]
  },
  {
   "cell_type": "code",
   "execution_count": 2,
   "metadata": {
    "colab": {
     "base_uri": "https://localhost:8080/"
    },
    "id": "1HnQOxgr81Rn",
    "outputId": "5a0cd07b-6dc1-4073-bcca-12cd74d07a97"
   },
   "outputs": [
    {
     "name": "stdout",
     "output_type": "stream",
     "text": [
      "Requirement already satisfied: sympy in /usr/local/lib/python3.10/dist-packages (1.13.1)\n",
      "Requirement already satisfied: mpmath<1.4,>=1.1.0 in /usr/local/lib/python3.10/dist-packages (from sympy) (1.3.0)\n"
     ]
    }
   ],
   "source": [
    "!pip install sympy"
   ]
  },
  {
   "cell_type": "code",
   "execution_count": 8,
   "metadata": {
    "id": "9TefXnFYbzpe"
   },
   "outputs": [
    {
     "name": "stdout",
     "output_type": "stream",
     "text": [
      "128\n",
      "128\n",
      "187555330131500322383147594781472024093 262868358915292318817091860543815008083 49302361837483366843894763655730412338038863822461602357182400380773165743719 49302361837483366843894763655730412337588440133414809715982160925447878711544 1\n"
     ]
    }
   ],
   "source": [
    "import random\n",
    "from math import gcd\n",
    "from sympy import randprime\n",
    "\n",
    "\n",
    "# Generate large prime\n",
    "def generate_prime(min_prime: int = 2):\n",
    "    bit_length = min_prime.bit_length()\n",
    "    print(bit_length)\n",
    "    return randprime(2 ** (bit_length - 1), min_prime)\n",
    "\n",
    "\n",
    "p = generate_prime(2**128 - 1)\n",
    "q = generate_prime(2**128 - 1)\n",
    "\n",
    "n = p * q\n",
    "phi = (p-1)*(q-1)\n",
    "print(p, q, n, phi ,gcd(phi, 65537))"
   ]
  }
 ],
 "metadata": {
  "colab": {
   "provenance": []
  },
  "kernelspec": {
   "display_name": "Python 3",
   "language": "python",
   "name": "python3"
  },
  "language_info": {
   "codemirror_mode": {
    "name": "ipython",
    "version": 3
   },
   "file_extension": ".py",
   "mimetype": "text/x-python",
   "name": "python",
   "nbconvert_exporter": "python",
   "pygments_lexer": "ipython3",
   "version": "3.12.5"
  }
 },
 "nbformat": 4,
 "nbformat_minor": 0
}
