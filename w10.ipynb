{
 "cells": [
  {
   "cell_type": "markdown",
   "metadata": {
    "id": "eDBm9GSziYy4"
   },
   "source": [
    "**Exercise 1**\n",
    "<br/>\n",
    "Compute the result of 12358 _ 1854 _ 14303 (mod 29101) in two ways and verify the equivalence: 1) by reducing modulo 29101 after each multiplication, and 2) by computing the entire product first and then reducing modulo 29101.\n"
   ]
  },
  {
   "cell_type": "code",
   "execution_count": 5,
   "metadata": {
    "colab": {
     "base_uri": "https://localhost:8080/"
    },
    "id": "Ri-WUUbCiYy5",
    "outputId": "d50bdcc6-a03e-4a18-8562-2cf1f7da7ab9"
   },
   "outputs": [
    {
     "name": "stdout",
     "output_type": "stream",
     "text": [
      "first way, result is 25392, cost 0.000999\n",
      "second way, result is 25392, cost 0.000000\n"
     ]
    }
   ],
   "source": [
    "import time\n",
    "\n",
    "a = 12358\n",
    "b = 1854\n",
    "c = 14303\n",
    "p = 29101\n",
    "\n",
    "# 1) by reducing modulo 29101 after each multiplication\n",
    "start_time = time.time()\n",
    "result = (a * b) % p\n",
    "result = (result * c) % p\n",
    "end_time = time.time()\n",
    "\n",
    "print(f\"first way, result is {result}, cost {end_time - start_time:6f}\")\n",
    "\n",
    "# 2) by computing the entire product first and then reducing modulo 29101.\n",
    "\n",
    "start_time = time.time()\n",
    "result = (a * b * c) % p\n",
    "end_time = time.time()\n",
    "\n",
    "print(f\"second way, result is {result}, cost {end_time - start_time:6f}\")"
   ]
  },
  {
   "cell_type": "markdown",
   "metadata": {
    "id": "MyZgMbk0DbJ0"
   },
   "source": [
    "**Conclusion**\n",
    "\n",
    "- For both ways, the result still the same\n",
    "- With large number, the first way will be more efficiency than the second\n"
   ]
  },
  {
   "cell_type": "markdown",
   "metadata": {
    "id": "eJS92UkVDbJ0"
   },
   "source": [
    "**Exercise 2**\n",
    "<br/>\n",
    "Implement the Diffie-Hellman protocol\n"
   ]
  },
  {
   "cell_type": "code",
   "execution_count": 6,
   "metadata": {
    "colab": {
     "base_uri": "https://localhost:8080/"
    },
    "id": "M7YGaOFdDbJ0",
    "outputId": "7373e550-bb7e-4b76-f850-03b883f943e9"
   },
   "outputs": [
    {
     "name": "stdout",
     "output_type": "stream",
     "text": [
      "Alice's private key: 752\n",
      "Bob's private key: 562\n",
      "Alice's public key: 830\n",
      "Bob's public key: 36\n",
      "Alice's shared secret: 877\n",
      "Bob's shared secret: 877\n"
     ]
    }
   ],
   "source": [
    "import random\n",
    "\n",
    "# Choose a large prime number (p) and a primitive root modulo p (g)\n",
    "p = 997\n",
    "g = 2\n",
    "\n",
    "# Each party chooses a private key\n",
    "a = random.randint(1, p - 1)\n",
    "b = random.randint(1, p - 1)\n",
    "print(f\"Alice's private key: {a}\")\n",
    "print(f\"Bob's private key: {b}\")\n",
    "\n",
    "A = pow(g, a, p)\n",
    "B = pow(g, b, p)\n",
    "\n",
    "print(f\"Alice's public key: {A}\")\n",
    "print(f\"Bob's public key: {B}\")\n",
    "\n",
    "K_A = pow(B, a, p)\n",
    "K_B = pow(A, b, p)\n",
    "\n",
    "print(f\"Alice's shared secret: {K_A}\")\n",
    "print(f\"Bob's shared secret: {K_B}\")"
   ]
  },
  {
   "cell_type": "markdown",
   "metadata": {
    "id": "9v-cE15UDbJ0"
   },
   "source": [
    "**Exercise 3**\n",
    "<br/>\n",
    "Implement the RSA encryption scheme from scratch. Use the following interface:\n",
    "\n",
    "- Gen(minPrime) generates a public/private keypair where p, q > minPrime.\n",
    "- Enc(pubKey, msg) returns ctxt (integer).\n",
    "- Dec(privKey, ctxt) returns msg (integer).\n"
   ]
  },
  {
   "cell_type": "code",
   "execution_count": 7,
   "metadata": {
    "colab": {
     "base_uri": "https://localhost:8080/"
    },
    "id": "1HnQOxgr81Rn",
    "outputId": "67b92396-be10-48be-9ab6-622bfb8f6ef6"
   },
   "outputs": [
    {
     "name": "stdout",
     "output_type": "stream",
     "text": [
      "Requirement already satisfied: sympy in c:\\python311\\lib\\site-packages (1.13.3)\n",
      "Requirement already satisfied: mpmath<1.4,>=1.1.0 in c:\\python311\\lib\\site-packages (from sympy) (1.3.0)\n"
     ]
    },
    {
     "name": "stderr",
     "output_type": "stream",
     "text": [
      "\n",
      "[notice] A new release of pip is available: 23.2.1 -> 24.3.1\n",
      "[notice] To update, run: python.exe -m pip install --upgrade pip\n"
     ]
    }
   ],
   "source": [
    "!pip install sympy"
   ]
  },
  {
   "cell_type": "code",
   "execution_count": 25,
   "metadata": {
    "colab": {
     "base_uri": "https://localhost:8080/"
    },
    "id": "9TefXnFYbzpe",
    "outputId": "cfc461a8-115c-4502-a6ab-c933fa4ed686"
   },
   "outputs": [
    {
     "name": "stdout",
     "output_type": "stream",
     "text": [
      "Encrypt message: 4055796240137430031582026582797632188395360562667549316013083370051934541497842853147224633456306067537475646764196222205189747907941943846555189868048389\n",
      "message after decrypted: 416730\n"
     ]
    }
   ],
   "source": [
    "import random\n",
    "import hashlib\n",
    "from math import gcd\n",
    "from sympy import randprime\n",
    "\n",
    "\n",
    "# Generate large prime\n",
    "def generate_prime(min_prime: int):\n",
    "    if min_prime < 8:\n",
    "        return randprime(2, min_prime)\n",
    "    return randprime(min_prime / 2, min_prime)\n",
    "\n",
    "\n",
    "# Generate exponent for phi\n",
    "def generate_exponent(phi: int):\n",
    "    while True:\n",
    "        e = random.randint(2, phi)\n",
    "        # return e if gdc between e, phi is 1\n",
    "        if gcd(e, phi) == 1:\n",
    "            return e\n",
    "\n",
    "\n",
    "# function calculate egcd of a, b\n",
    "def egcd(a: int, b: int):\n",
    "    if b == 0:\n",
    "        return a, 1, 0\n",
    "    gcd, x1, y1 = egcd(b, a % b)\n",
    "\n",
    "    x = y1\n",
    "    y = x1 - (a // b) * y1\n",
    "\n",
    "    return gcd, x, y\n",
    "\n",
    "\n",
    "def Gen(min_prime: int):\n",
    "    # randomly select p, q as 2 different primes\n",
    "    p = generate_prime(min_prime)\n",
    "    q = generate_prime(min_prime)\n",
    "\n",
    "    # calculate phi\n",
    "    n = p * q\n",
    "    phi = (p - 1) * (q - 1)\n",
    "\n",
    "    # calculate exponent\n",
    "    e = generate_exponent(phi)\n",
    "\n",
    "    gcd, x, y = egcd(e, phi)\n",
    "\n",
    "    d = x\n",
    "\n",
    "    public_key = (n, e)\n",
    "    private_key = (p, q, phi, d)\n",
    "\n",
    "    return public_key, private_key\n",
    "\n",
    "\n",
    "# Encrypt function\n",
    "def Enc(pubKey, msg: int):\n",
    "    n, e = pubKey\n",
    "    return pow(msg, e, n)\n",
    "\n",
    "\n",
    "# Decrypt function\n",
    "def Dec(privKey, ctxt):\n",
    "    n, d = privKey\n",
    "    return pow(ctxt, d, n)\n",
    "\n",
    "\n",
    "# choose min prime\n",
    "min_prime = 2**256 - 1\n",
    "\n",
    "public_key, private_key = Gen(min_prime)\n",
    "\n",
    "\n",
    "n, e = public_key\n",
    "p, q, phi, d = private_key\n",
    "\n",
    "# original message\n",
    "msg = 416730\n",
    "\n",
    "enc_msg = Enc(public_key, msg)\n",
    "\n",
    "print(f\"Encrypt message: {enc_msg}\")\n",
    "\n",
    "dec_msg = Dec((n, d), enc_msg)\n",
    "\n",
    "print(f\"message after decrypted: {dec_msg}\")"
   ]
  },
  {
   "cell_type": "markdown",
   "metadata": {},
   "source": [
    "**Exercise 4**\n",
    "<br/>\n",
    "Try to conduct timing attacks against your implementation of the RSA encryption:\n",
    "measure time that is needed to encrypt messages with different sizes and contents.\n",
    "What can an adversary deduct about a message given only the execution time of\n",
    "encrypting it? Repeat the measurement for different key sizes.\n"
   ]
  }
 ],
 "metadata": {
  "colab": {
   "provenance": []
  },
  "kernelspec": {
   "display_name": "Python 3",
   "language": "python",
   "name": "python3"
  },
  "language_info": {
   "codemirror_mode": {
    "name": "ipython",
    "version": 3
   },
   "file_extension": ".py",
   "mimetype": "text/x-python",
   "name": "python",
   "nbconvert_exporter": "python",
   "pygments_lexer": "ipython3",
   "version": "3.11.5"
  }
 },
 "nbformat": 4,
 "nbformat_minor": 0
}
