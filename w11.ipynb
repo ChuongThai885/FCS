{
  "cells": [
    {
      "cell_type": "markdown",
      "metadata": {
        "id": "jo0Z9DOJbvrB"
      },
      "source": [
        "**Exercise 1**\n",
        "<br/>\n",
        "Implement the final version of the authenticated DH protocol in Slide 16. (You can\n",
        "use external libraries.)"
      ]
    },
    {
      "cell_type": "code",
      "source": [
        "from sympy import randprime, primitive_root, factorint, isprime\n",
        "import random\n",
        "\n",
        "class DH_Participant:\n",
        "    def __init__(self, name: str):\n",
        "        self.__name = name\n",
        "        self.__g = 0\n",
        "        self.__p = 0\n",
        "        self.__q = 0\n",
        "        self.__r = 0\n",
        "        self.private_key = None\n",
        "        self.public_key = None\n",
        "        self.auth_signature = None\n",
        "\n",
        "    # generate s as the minimum size of p\n",
        "    # means that if s= 4, p need at least 4 bits to present\n",
        "    def generate_s(self):\n",
        "        # limit min between 2**8 to 2**16\n",
        "        s = random.randint(8,16)\n",
        "        print(self.__name, f\"chose s as {s}\")\n",
        "        return s\n",
        "\n",
        "\n",
        "    def __generate_q(self, p: int):\n",
        "        factors = factorint(p-1)\n",
        "        prime_factors = [factor for factor in factors if isprime(factor)]\n",
        "\n",
        "        return max(prime_factors) if prime_factors else None\n",
        "\n",
        "\n",
        "    def select_parameters(self, s: int):\n",
        "        p = randprime(2**(s-1), 2**s)\n",
        "        g = primitive_root(p)\n",
        "        q = self.__generate_q(p)\n",
        "        print(f\"{self.__name} chose p as {p}, q as {q} with generator as {g}\")\n",
        "\n",
        "\n",
        "alice = DH_Participant(\"Allice\")\n",
        "bob = DH_Participant(\"Bob\")\n",
        "\n",
        "s = alice.generate_s()\n",
        "\n",
        "bob.select_parameters(s)\n"
      ],
      "metadata": {
        "colab": {
          "base_uri": "https://localhost:8080/"
        },
        "id": "NmYcAxZgbwpn",
        "outputId": "efa9e070-ee61-4c97-a232-cf6b90847c7a"
      },
      "execution_count": 43,
      "outputs": [
        {
          "output_type": "stream",
          "name": "stdout",
          "text": [
            "Allice chose s as 9\n",
            "Bob chose p as 409, q as 17 with generator as 21\n"
          ]
        }
      ]
    },
    {
      "cell_type": "markdown",
      "source": [
        "**Exercise 4**\n",
        "<br/>\n",
        "Trusted Third Party (TTP) might be involved in a fair non-repudiation protocol in different extents\n",
        "-  **In-line TTP** acts as an intermediary between the originator and the recipient\n",
        "and intervenes directly in a non-repudiation service (e.g. the protocol in Slide\n",
        "36).\n",
        "- **On-line TTP** is actively involved in every instance of a non-repudiation service (e.g. the protocol in Slide 38).\n",
        "- **Off-line TTP** supports non-repudiation without being involved in each instance of a service\n",
        "\n",
        "Design (or find in the literature, e.g., in IEEE CSF 1997, “An Efficient Non repudiation Protocol”) a fair non-repudiation protocol using an **off-line TTP** which\n",
        "does not need to be involved unless the originator or the recipient misbehaves."
      ],
      "metadata": {
        "id": "q9lVb8Jqx0tl"
      }
    },
    {
      "cell_type": "code",
      "source": [],
      "metadata": {
        "id": "wwz9wF_o4PgB"
      },
      "execution_count": null,
      "outputs": []
    }
  ],
  "metadata": {
    "language_info": {
      "name": "python"
    },
    "colab": {
      "provenance": []
    },
    "kernelspec": {
      "name": "python3",
      "display_name": "Python 3"
    }
  },
  "nbformat": 4,
  "nbformat_minor": 0
}