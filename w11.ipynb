{
  "cells": [
    {
      "cell_type": "markdown",
      "metadata": {
        "id": "jo0Z9DOJbvrB"
      },
      "source": [
        "**Exercise 1**\n",
        "<br/>\n",
        "Implement the final version of the authenticated DH protocol in Slide 16. (You can\n",
        "use external libraries.)\n"
      ]
    },
    {
      "cell_type": "code",
      "execution_count": null,
      "metadata": {
        "colab": {
          "base_uri": "https://localhost:8080/"
        },
        "id": "kXS8stOyKRQ4",
        "outputId": "a1045f06-66cb-4891-9cdb-a2a9100afd6b"
      },
      "outputs": [
        {
          "output_type": "stream",
          "name": "stdout",
          "text": [
            "Requirement already satisfied: rsa in /usr/local/lib/python3.10/dist-packages (4.9)\n",
            "Requirement already satisfied: pyasn1>=0.1.3 in /usr/local/lib/python3.10/dist-packages (from rsa) (0.6.1)\n"
          ]
        }
      ],
      "source": [
        "!pip install rsa"
      ]
    },
    {
      "cell_type": "code",
      "execution_count": null,
      "metadata": {
        "colab": {
          "base_uri": "https://localhost:8080/"
        },
        "id": "NmYcAxZgbwpn",
        "outputId": "11977f43-bab9-4120-bfe3-ba6aa72d3eb3"
      },
      "outputs": [
        {
          "name": "stdout",
          "output_type": "stream",
          "text": [
            "Alice chose s as 11\n",
            "Bob chose p as 1231, q as 41, r as 1053 with generator as 3\n",
            "Bob's private key is 5\n",
            "Bob's public key is 243\n",
            "Alice received successfully\n",
            "Alice's private key is 9\n",
            "Alice's public key is 1218\n",
            "Alice's shared secret key is 469\n",
            "Bob received successfully\n",
            "Bob's shared secret key is 469\n"
          ]
        }
      ],
      "source": [
        "from sympy import randprime, primitive_root, factorint, isprime\n",
        "import rsa\n",
        "import random\n",
        "\n",
        "\n",
        "# define participant with  authenticated DH protocol\n",
        "class DHParticipant:\n",
        "\n",
        "    __name: str\n",
        "    __private_key: int\n",
        "    __public_key: int\n",
        "    __shared_private_key: int\n",
        "    __p: int\n",
        "\n",
        "    # constructor of participant class\n",
        "    def __init__(self, name: str):\n",
        "        self.__name = name\n",
        "\n",
        "    # return q as a prime which the biggest prime factor of p - 1\n",
        "    def __generate_q(self, p: int):\n",
        "        # find list factors of p - 1\n",
        "        factors = factorint(p - 1)\n",
        "        # filter prime number in factor list\n",
        "        prime_factors = [factor for factor in factors if isprime(factor)]\n",
        "        # return the biggest factor in prime factor list\n",
        "        return max(prime_factors) if prime_factors else None\n",
        "\n",
        "    # return r as a random number as:\n",
        "    #  (r**2) mod p != 1\n",
        "    #  (g**r) mod p != 1\n",
        "    #  (g**r) mod p != p - 1\n",
        "    def __generate_r(self, p: int, g: int):\n",
        "        while True:\n",
        "            r = random.randint(2, p - 2)\n",
        "            if pow(r, 2, p) != 1 and pow(g, r, p) != 1 and pow(g, r, p) != p - 1:\n",
        "                return r\n",
        "\n",
        "    # sign a message with RSA algorithm for authentication purpose\n",
        "    # return (rsa public key, signature)\n",
        "    def __generate_authentication(self, msg: str):\n",
        "        rsa_public_key, rsa_private_key = rsa.newkeys(2048)\n",
        "        signature = rsa.sign(msg.encode(\"utf-8\"), rsa_private_key, \"SHA-256\")\n",
        "\n",
        "        return (rsa_public_key, signature)\n",
        "\n",
        "    # verify a message with public key and signature using RSA algorithm\n",
        "    # return an error if authentication failed\n",
        "    def __verify_authentication(self, msg: str, authentications):\n",
        "        (rsa_public_key, signature) = authentications\n",
        "\n",
        "        return rsa.verify(msg.encode(\"utf-8\"), signature, rsa_public_key)\n",
        "\n",
        "    # generate s as the minimum size of p\n",
        "    # means that if s= 4, p need at least 4 bits to present\n",
        "    def generate_s(self):\n",
        "        # limit min between 2**8 to 2**16\n",
        "        s = random.randint(8, 16)\n",
        "\n",
        "        print(self.__name, f\"chose s as {s}\")\n",
        "\n",
        "        return s\n",
        "\n",
        "    # generate parameters based on s\n",
        "    # return necessary params, public key and authentication info using RSA algorithm\n",
        "    def select_parameters(self, s: int):\n",
        "        # select p as a prime with s bits\n",
        "        p = randprime(2 ** (s - 1), 2**s)\n",
        "        self.__p = p\n",
        "        # calculate g as primitive root of p\n",
        "        g = primitive_root(p)\n",
        "        # generate q, r based on p, g\n",
        "        q = self.__generate_q(p)\n",
        "        r = self.__generate_r(p, g)\n",
        "\n",
        "        print(f\"{self.__name} chose p as {p}, q as {q}, r as {r} with generator as {g}\")\n",
        "\n",
        "        # select private key randomly from 1 to (q - 1)\n",
        "        self_private_key = random.randint(1, q - 1)\n",
        "        self.__private_key = self_private_key\n",
        "        # calculate public of its own as (g**(private key)) mod p\n",
        "        self_public_key = pow(g, self_private_key, p)\n",
        "        self.__public_key = self_public_key\n",
        "\n",
        "        print(f\"{self.__name}'s private key is {self.__private_key}\")\n",
        "        print(f\"{self.__name}'s public key is {self.__public_key}\")\n",
        "\n",
        "        # generate authentication message based on parameters generated\n",
        "        message_auth = f\"{g},{p},{q},{r},{self_public_key}\"\n",
        "        auth = self.__generate_authentication(message_auth)\n",
        "\n",
        "        return (g, p, q, r), self_public_key, auth\n",
        "\n",
        "    # receive params from partner, calculate public, private and shared secret key\n",
        "    # return public key, authentication info using RSA algorithm\n",
        "    def receive_initial_parameters(self, params):\n",
        "        (g, p, q, r), public_key, auth = params\n",
        "        self.__p = p\n",
        "        # create authentication message to validate received params\n",
        "        message_auth = f\"{g},{p},{q},{r},{public_key}\"\n",
        "        # verify message, throw error if not valid\n",
        "        self.__verify_authentication(message_auth, auth)\n",
        "        print(f\"{self.__name} received successfully\")\n",
        "        # generate private key based on received q\n",
        "        # private key is randomly from 1 to (q - 1)\n",
        "        self_private_key = random.randint(1, q - 1)\n",
        "        self.__private_key = self_private_key\n",
        "        # calculate public of its own as (g**(private key)) mod p\n",
        "        self_public_key = pow(g, self_private_key, p)\n",
        "        self.__public_key = self_public_key\n",
        "\n",
        "        print(f\"{self.__name}'s private key is {self.__private_key}\")\n",
        "        print(f\"{self.__name}'s public key is {self.__public_key}\")\n",
        "\n",
        "        # shared secret between 2 participants calculated as ((g **(private key of p1) **(private key of p2))) mod p\n",
        "        # or as (public key of partner **(secret key of its own)) mod p\n",
        "        shared_secret = pow(public_key, self_private_key, p)\n",
        "        self.__shared_private_key = shared_secret\n",
        "\n",
        "        print(f\"{self.__name}'s shared secret key is {self.__shared_private_key}\")\n",
        "\n",
        "        # generate authentication params for partner\n",
        "        auth = self.__generate_authentication(f\"{self_public_key}\")\n",
        "\n",
        "        return self_public_key, auth\n",
        "\n",
        "    # receive authentication params from partner, calculate shared secret key\n",
        "    def receive_partner_public_key(self, partner_public_key, auth_params):\n",
        "        # verify authentication params from partner, then verify it\n",
        "        # throw error if it's invalid\n",
        "        self.__verify_authentication(f\"{partner_public_key}\", auth_params)\n",
        "\n",
        "        print(f\"{self.__name} received successfully\")\n",
        "\n",
        "        # shared secret between 2 participants calculated as ((g **(private key of p1) **(private key of p2))) mod p\n",
        "        # or as (public key of partner **(secret key of its own)) mod p\n",
        "        shared_secret = pow(partner_public_key, self.__private_key, self.__p)\n",
        "        self.__shared_private_key = shared_secret\n",
        "\n",
        "        print(f\"{self.__name}'s shared secret key is {self.__shared_private_key}\")\n",
        "\n",
        "\n",
        "# initial 2 object Alice and Bob\n",
        "alice = DHParticipant(\"Alice\")\n",
        "bob = DHParticipant(\"Bob\")\n",
        "# step 1: Alice select s as minimum size of the prime\n",
        "s = alice.generate_s()\n",
        "# step 2: Bob generate params based on s\n",
        "params = bob.select_parameters(s)\n",
        "\n",
        "try:\n",
        "    # step 3: Alice receive the params from Bob, verify then calculate the shared secret for itself\n",
        "    alice_public_key, auth_params = alice.receive_initial_parameters(params)\n",
        "    # step 4: Bob receive the authentication params from Alice, verify then calculate the shared secret itself\n",
        "    bob.receive_partner_public_key(alice_public_key, auth_params)\n",
        "except:\n",
        "    print(\"invalid signature!\")"
      ]
    },
    {
      "cell_type": "markdown",
      "source": [
        "**Exercise 2**\n",
        "\n",
        "Design and implement a simple key management protocol. The protocol should be\n",
        "based on a KDC that shares keys with Alice and Bob. Alice, initiating communi-\n",
        "cation, should establish (through the KDC) a shared key with Bob. Introduce the\n",
        "following three classes: **KDC, Alice, Bob**, and present the protocol as an interac-\n",
        "tion between three objects of these classes. Refer to the Kerberos protocol in Slide\n",
        "20 as an example.\n",
        "\n",
        "a) Are you aware of any limitations or security problems of your solution (consider replay attacks, confidentiality and authentication, overheads, etc.)?\n",
        "\n",
        "b) Do you see any ways of improving them?"
      ],
      "metadata": {
        "id": "Nw0HlBxjUkBq"
      }
    },
    {
      "cell_type": "code",
      "source": [
        "!pip install pycryptodome"
      ],
      "metadata": {
        "id": "4kwoFgE5UjdM",
        "outputId": "bf29e468-0804-47c2-8fe4-e4e47785fba1",
        "colab": {
          "base_uri": "https://localhost:8080/"
        }
      },
      "execution_count": 3,
      "outputs": [
        {
          "output_type": "stream",
          "name": "stdout",
          "text": [
            "Requirement already satisfied: pycryptodome in /usr/local/lib/python3.10/dist-packages (3.21.0)\n"
          ]
        }
      ]
    },
    {
      "cell_type": "code",
      "source": [
        "from Crypto.Cipher import AES\n",
        "from Crypto.Random import get_random_bytes\n",
        "from Crypto.Util.Padding import pad, unpad\n",
        "\n",
        "class KDC:\n",
        "    def __init__(self):\n",
        "        self.__keys = {}\n",
        "\n",
        "    def register(self, name):\n",
        "        key = get_random_bytes(16)\n",
        "        self.__keys[name] = key\n",
        "        return key\n",
        "\n",
        "    def generate_session_key(self, requestor_name, receiver_name):\n",
        "        if requestor_name in self.__keys and receiver_name in self.__keys:\n",
        "            # start generate session key\n",
        "            session_key = get_random_bytes(16)\n",
        "            print(\"session key generated as:\", session_key)\n",
        "            # generate IV with 16 byte length\n",
        "            iv = get_random_bytes(16)\n",
        "            # encrypt message with receiver's key\n",
        "            # include iv as first 16 bytes to receiver to decrypt\n",
        "            enc_msg_receiver = iv + self.encrypt(self.__keys[receiver_name], session_key + requestor_name.encode() ,iv)\n",
        "            # encrypt previous message with requestor's key\n",
        "            # encrypt message for requestor will contain 16 bytes IV and input message contain session key for requestor\n",
        "            enc_msg_requestor = iv + self.encrypt(self.__keys[requestor_name], session_key + enc_msg_receiver ,iv)\n",
        "\n",
        "            return enc_msg_requestor\n",
        "        else:\n",
        "            return None, None\n",
        "\n",
        "    def encrypt(self, key, msg, iv):\n",
        "        cipher = AES.new(key, AES.MODE_CBC, iv)\n",
        "        return cipher.encrypt(pad(msg, AES.block_size))\n",
        "\n",
        "    def decrypt(self, key, msg, iv):\n",
        "        cipher = AES.new(key, AES.MODE_CBC, iv)\n",
        "        return unpad(cipher.decrypt(msg), AES.block_size)\n",
        "\n",
        "class KDC_participant:\n",
        "    name: str\n",
        "    __kdc: KDC\n",
        "    __key: bytes\n",
        "    __session_key: bytes = None\n",
        "\n",
        "    def __init__(self, name, kdc):\n",
        "        self.__kdc = kdc\n",
        "        self.__key = self.__kdc.register(name)\n",
        "        self.name = name\n",
        "\n",
        "    def register(self, partner_name):\n",
        "        # request KDC to generate a session key and msg to participant\n",
        "        session_key_enc = kdc.generate_session_key(self.name, partner_name)\n",
        "        iv = session_key_enc[:16]\n",
        "        raw_data = self.__kdc.decrypt(self.__key, session_key_enc[16:], iv)\n",
        "        session_key = raw_data[:16]\n",
        "\n",
        "        tag = raw_data[16:]\n",
        "        self.__session_key = session_key\n",
        "        return session_key, tag\n",
        "\n",
        "    def receive_tag(self, tag):\n",
        "        iv = tag[:16]\n",
        "        raw_data = tag[16:]\n",
        "        raw_data_dec = self.__kdc.decrypt(self.__key, raw_data, iv)\n",
        "        session_key = raw_data_dec[:16]\n",
        "        tag = raw_data_dec[16:]\n",
        "        self.__session_key = session_key\n",
        "        return raw_data_dec\n",
        "\n",
        "class Alice(KDC_participant):\n",
        "    def __init(self, name, kdc):\n",
        "        super().__init__(name, kdc)\n",
        "\n",
        "    def request_session_key(self, partner_name):\n",
        "        return self.register(partner_name)\n",
        "\n",
        "\n",
        "class Bob(KDC_participant):\n",
        "    def __init(self, name, kdc):\n",
        "        super().__init__(name, kdc)\n",
        "\n",
        "    def receive_tag(self, tag):\n",
        "        return super().receive_tag(tag)\n",
        "\n",
        "\n",
        "kdc = KDC()\n",
        "alice = Alice(\"Alice\", kdc)\n",
        "bob = Bob(\"Bob\", kdc)\n",
        "\n",
        "session_key, tag = alice.request_session_key(bob.name)\n",
        "print(\"session key:\", session_key)\n",
        "print(\"tag:\", tag)\n",
        "bob.receive_tag(tag)\n",
        "print(\"end!\")"
      ],
      "metadata": {
        "id": "2qmm9fwMVUcA",
        "outputId": "4441ac49-29bc-4037-9eb9-dd3621a1b367",
        "colab": {
          "base_uri": "https://localhost:8080/"
        }
      },
      "execution_count": 16,
      "outputs": [
        {
          "output_type": "stream",
          "name": "stdout",
          "text": [
            "register\n",
            "session key: b'\\xbf\\xb5\\x15\\x96\\xa3\\xba<\\nm~/s\\xd8\\xbd\\xa52'\n",
            "iv: b'\\x90\\xd3\\x8b\\xc4Db\\xc3\\x959Z{~\\xe3\\x8a\"W'\n",
            "tag: b'\\x90\\xd3\\x8b\\xc4Db\\xc3\\x959Z{~\\xe3\\x8a\"WB\\xd4\\xea\\xc9\\x8f\\xee\\xe1\\xea1\\xd9\\x9e\\x83\\xee\\xd66%\\x8cg\"\\xde^6H\\x01=\\x98\\x18\\xa0ci\\x13\\xca'\n",
            "iv: b'\\x90\\xd3\\x8b\\xc4Db\\xc3\\x959Z{~\\xe3\\x8a\"W'\n",
            "session key: b'\\xbf\\xb5\\x15\\x96\\xa3\\xba<\\nm~/s\\xd8\\xbd\\xa52'\n",
            "tag: b'\\x90\\xd3\\x8b\\xc4Db\\xc3\\x959Z{~\\xe3\\x8a\"WB\\xd4\\xea\\xc9\\x8f\\xee\\xe1\\xea1\\xd9\\x9e\\x83\\xee\\xd66%\\x8cg\"\\xde^6H\\x01=\\x98\\x18\\xa0ci\\x13\\xca'\n",
            "iv: b'\\x90\\xd3\\x8b\\xc4Db\\xc3\\x959Z{~\\xe3\\x8a\"W'\n",
            "raw data receive:  b'\\xbf\\xb5\\x15\\x96\\xa3\\xba<\\nm~/s\\xd8\\xbd\\xa52Alice'\n",
            "session key b'\\xbf\\xb5\\x15\\x96\\xa3\\xba<\\nm~/s\\xd8\\xbd\\xa52'\n",
            "tag b'Alice'\n",
            "end!\n"
          ]
        }
      ]
    },
    {
      "cell_type": "markdown",
      "metadata": {
        "id": "q9lVb8Jqx0tl"
      },
      "source": [
        "**Exercise 4**\n",
        "<br/>\n",
        "Trusted Third Party (TTP) might be involved in a fair non-repudiation protocol in different extents\n",
        "\n",
        "- **In-line TTP** acts as an intermediary between the originator and the recipient\n",
        "  and intervenes directly in a non-repudiation service (e.g. the protocol in Slide\n",
        "  36).\n",
        "- **On-line TTP** is actively involved in every instance of a non-repudiation service (e.g. the protocol in Slide 38).\n",
        "- **Off-line TTP** supports non-repudiation without being involved in each instance of a service\n",
        "\n",
        "Design (or find in the literature, e.g., in IEEE CSF 1997, “An Efficient Non repudiation Protocol”) a fair non-repudiation protocol using an **off-line TTP** which\n",
        "does not need to be involved unless the originator or the recipient misbehaves.\n"
      ]
    },
    {
      "cell_type": "code",
      "execution_count": null,
      "metadata": {
        "id": "wwz9wF_o4PgB"
      },
      "outputs": [],
      "source": []
    }
  ],
  "metadata": {
    "colab": {
      "provenance": []
    },
    "kernelspec": {
      "display_name": "Python 3",
      "name": "python3"
    },
    "language_info": {
      "codemirror_mode": {
        "name": "ipython",
        "version": 3
      },
      "file_extension": ".py",
      "mimetype": "text/x-python",
      "name": "python",
      "nbconvert_exporter": "python",
      "pygments_lexer": "ipython3",
      "version": "3.11.5"
    }
  },
  "nbformat": 4,
  "nbformat_minor": 0
}