{
  "cells": [
    {
      "cell_type": "markdown",
      "metadata": {
        "id": "jo0Z9DOJbvrB"
      },
      "source": [
        "**Exercise 1**\n",
        "<br/>\n",
        "Implement the final version of the authenticated DH protocol in Slide 16. (You can\n",
        "use external libraries.)"
      ]
    },
    {
      "cell_type": "code",
      "source": [
        "!pip install rsa"
      ],
      "metadata": {
        "id": "kXS8stOyKRQ4",
        "outputId": "b4f29a7f-655f-4625-dad7-0006e645ddf6",
        "colab": {
          "base_uri": "https://localhost:8080/"
        }
      },
      "execution_count": 3,
      "outputs": [
        {
          "output_type": "stream",
          "name": "stdout",
          "text": [
            "Requirement already satisfied: rsa in /usr/local/lib/python3.10/dist-packages (4.9)\n",
            "Requirement already satisfied: pyasn1>=0.1.3 in /usr/local/lib/python3.10/dist-packages (from rsa) (0.6.1)\n"
          ]
        }
      ]
    },
    {
      "cell_type": "code",
      "source": [
        "from sympy import randprime, primitive_root, factorint, isprime\n",
        "import rsa\n",
        "import random\n",
        "\n",
        "class DH_Participant:\n",
        "\n",
        "    __name: str\n",
        "    __private_key: int\n",
        "    __public_key: int\n",
        "    __shared_private_key: int\n",
        "    __p: int\n",
        "\n",
        "\n",
        "    def __init__(self, name: str):\n",
        "        self.__name = name\n",
        "\n",
        "\n",
        "    # private function\n",
        "    def __generate_q(self, p: int):\n",
        "        factors = factorint(p-1)\n",
        "        prime_factors = [factor for factor in factors if isprime(factor)]\n",
        "\n",
        "        return max(prime_factors) if prime_factors else None\n",
        "\n",
        "\n",
        "    # private function\n",
        "    def __generate_r(self, p: int, g: int):\n",
        "        while True:\n",
        "            r = random.randint(2, p-2)\n",
        "            if pow(r, 2, p) != 1 and pow(g, r, p) != 1 and pow(g, r, p) != p - 1:\n",
        "                return r\n",
        "\n",
        "\n",
        "    # private function\n",
        "    def __generate_authentication(self, msg: str):\n",
        "        rsa_public_key, rsa_private_key = rsa.newkeys(2048)\n",
        "        signature = rsa.sign(msg.encode('utf-8'), rsa_private_key, 'SHA-256')\n",
        "        return (rsa_public_key, signature)\n",
        "\n",
        "\n",
        "    # private function\n",
        "    def __verify_authentication(self, msg: str, authentications):\n",
        "        (rsa_public_key, signature) = authentications\n",
        "\n",
        "        return rsa.verify(msg.encode('utf-8'), signature, rsa_public_key)\n",
        "\n",
        "\n",
        "    # generate s as the minimum size of p\n",
        "    # means that if s= 4, p need at least 4 bits to present\n",
        "    def generate_s(self):\n",
        "        # limit min between 2**8 to 2**16\n",
        "        s = random.randint(8,16)\n",
        "        print(self.__name, f\"chose s as {s}\")\n",
        "        return s\n",
        "\n",
        "\n",
        "    # generate parameters based on s\n",
        "    # return neccessary params, public key and authentication info using RSA algorithm\n",
        "    def select_parameters(self, s: int):\n",
        "        p = randprime(2**(s-1), 2**s)\n",
        "        self.__p = p\n",
        "        g = primitive_root(p)\n",
        "        q = self.__generate_q(p)\n",
        "        r = self.__generate_r(p, g)\n",
        "        print(f\"{self.__name} chose p as {p}, q as {q}, r as {r} with generator as {g}\")\n",
        "        self_private_key = random.randint(1, q - 1)\n",
        "        self.__private_key = self_private_key\n",
        "        self_public_key = pow(g, self_private_key, p)\n",
        "        self.__public_key = self_public_key\n",
        "        print(f\"{self.__name}'s private key is {self.__private_key}\")\n",
        "        print(f\"{self.__name}'s public key is {self.__public_key}\")\n",
        "        message_authen = f\"{g},{p},{q},{r},{self_public_key}\"\n",
        "\n",
        "        auth = self.__generate_authentication(message_authen)\n",
        "        return (g, p, q, r), self_public_key, auth\n",
        "\n",
        "\n",
        "    # receive params from partner, calculate public, private and shared secret key\n",
        "    # return public key, authentication info using RSA algorithm\n",
        "    def receive_initial_parameters(self, params):\n",
        "        (g, p, q, r), public_key, auth = params\n",
        "        self.__p = p\n",
        "\n",
        "        message_authen = f\"{g},{p},{q},{r},{public_key}\"\n",
        "        self.__verify_authentication(message_authen, auth)\n",
        "        print(f\"{self.__name} received successfully\")\n",
        "\n",
        "        self_private_key = random.randint(1, q - 1)\n",
        "        self.__private_key = self_private_key\n",
        "        self_public_key = pow(g, self_private_key, p)\n",
        "        self.__public_key = self_public_key\n",
        "        print(f\"{self.__name}'s private key is {self.__private_key}\")\n",
        "        print(f\"{self.__name}'s public key is {self.__public_key}\")\n",
        "\n",
        "        shared_secret = pow(public_key, self_private_key, p)\n",
        "        self.__shared_private_key = shared_secret\n",
        "        print(f\"{self.__name}'s shared secret key is {self.__shared_private_key}\")\n",
        "\n",
        "        auth = self.__generate_authentication(f\"{self_public_key}\")\n",
        "        return self_public_key, auth\n",
        "\n",
        "\n",
        "    # receive authentication params from partner, calculate shared secret key\n",
        "    def receive_partner_public_key(self, partner_public_key, auth_params):\n",
        "        self.__verify_authentication(f\"{partner_public_key}\", auth_params)\n",
        "        print(f\"{self.__name} received successfully\")\n",
        "        shared_secret = pow(partner_public_key, self.__private_key, self.__p)\n",
        "        self.__shared_private_key = shared_secret\n",
        "        print(f\"{self.__name}'s shared secret key is {self.__shared_private_key}\")\n",
        "\n",
        "\n",
        "# initial 2 object Alice and Bob\n",
        "alice = DH_Participant(\"Alice\")\n",
        "bob = DH_Participant(\"Bob\")\n",
        "# step 1: Alice select s as minimum size of the prime\n",
        "s = alice.generate_s()\n",
        "# step 2: Bob generate params based on s\n",
        "params = bob.select_parameters(s)\n",
        "\n",
        "try:\n",
        "    # step 3: Alice receive the params from Bob, verify then calculate the shared secret for itself\n",
        "    alice_public_key,auth_params = alice.receive_initial_parameters(params)\n",
        "    # step 4: Bob receive the authentication params from Alice, verify then calculate the shared secret itself\n",
        "    bob.receive_partner_public_key(alice_public_key, auth_params)\n",
        "except:\n",
        "    print(\"invalid signature!\")\n"
      ],
      "metadata": {
        "colab": {
          "base_uri": "https://localhost:8080/"
        },
        "id": "NmYcAxZgbwpn",
        "outputId": "11977f43-bab9-4120-bfe3-ba6aa72d3eb3"
      },
      "execution_count": 32,
      "outputs": [
        {
          "output_type": "stream",
          "name": "stdout",
          "text": [
            "Alice chose s as 10\n",
            "Bob chose p as 743, q as 53, r as 731 with generator as 5\n",
            "Bob's private key is 47\n",
            "Bob's public key is 434\n",
            "Alice received successfully\n",
            "Alice's private key is 36\n",
            "Alice's public key is 333\n",
            "Alice's shared secret key is 659\n",
            "Bob received successfully\n",
            "Bob's shared secret key is 659\n"
          ]
        }
      ]
    },
    {
      "cell_type": "markdown",
      "source": [
        "**Exercise 4**\n",
        "<br/>\n",
        "Trusted Third Party (TTP) might be involved in a fair non-repudiation protocol in different extents\n",
        "-  **In-line TTP** acts as an intermediary between the originator and the recipient\n",
        "and intervenes directly in a non-repudiation service (e.g. the protocol in Slide\n",
        "36).\n",
        "- **On-line TTP** is actively involved in every instance of a non-repudiation service (e.g. the protocol in Slide 38).\n",
        "- **Off-line TTP** supports non-repudiation without being involved in each instance of a service\n",
        "\n",
        "Design (or find in the literature, e.g., in IEEE CSF 1997, “An Efficient Non repudiation Protocol”) a fair non-repudiation protocol using an **off-line TTP** which\n",
        "does not need to be involved unless the originator or the recipient misbehaves."
      ],
      "metadata": {
        "id": "q9lVb8Jqx0tl"
      }
    },
    {
      "cell_type": "code",
      "source": [],
      "metadata": {
        "id": "wwz9wF_o4PgB"
      },
      "execution_count": null,
      "outputs": []
    }
  ],
  "metadata": {
    "language_info": {
      "name": "python"
    },
    "colab": {
      "provenance": []
    },
    "kernelspec": {
      "name": "python3",
      "display_name": "Python 3"
    }
  },
  "nbformat": 4,
  "nbformat_minor": 0
}