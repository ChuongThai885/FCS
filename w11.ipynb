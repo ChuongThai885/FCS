{
  "cells": [
    {
      "cell_type": "markdown",
      "metadata": {
        "id": "jo0Z9DOJbvrB"
      },
      "source": [
        "**Exercise 1**\n",
        "<br/>\n",
        "Implement the final version of the authenticated DH protocol in Slide 16. (You can\n",
        "use external libraries.)"
      ]
    },
    {
      "cell_type": "code",
      "source": [
        "class DH_Final_Participant:\n",
        "    def __init__(self):\n",
        "        self.__g = 0\n",
        "        self.__p = 0\n",
        "        self.__q = 0\n",
        "        self.__r = 0\n",
        "        self.private_key = None\n",
        "        self.public_key = None\n",
        "        self.auth_signature = None"
      ],
      "metadata": {
        "id": "NmYcAxZgbwpn"
      },
      "execution_count": null,
      "outputs": []
    }
  ],
  "metadata": {
    "language_info": {
      "name": "python"
    },
    "colab": {
      "provenance": []
    }
  },
  "nbformat": 4,
  "nbformat_minor": 0
}