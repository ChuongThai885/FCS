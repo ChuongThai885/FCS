{
 "cells": [
  {
   "cell_type": "markdown",
   "metadata": {
    "id": "jo0Z9DOJbvrB"
   },
   "source": [
    "**Exercise 1**\n",
    "<br/>\n",
    "Implement the final version of the authenticated DH protocol in Slide 16. (You can\n",
    "use external libraries.)\n"
   ]
  },
  {
   "cell_type": "code",
   "execution_count": 1,
   "metadata": {
    "colab": {
     "base_uri": "https://localhost:8080/"
    },
    "id": "kXS8stOyKRQ4",
    "outputId": "b4f29a7f-655f-4625-dad7-0006e645ddf6"
   },
   "outputs": [
    {
     "name": "stdout",
     "output_type": "stream",
     "text": [
      "Collecting rsa\n",
      "  Obtaining dependency information for rsa from https://files.pythonhosted.org/packages/49/97/fa78e3d2f65c02c8e1268b9aba606569fe97f6c8f7c2d74394553347c145/rsa-4.9-py3-none-any.whl.metadata\n",
      "  Downloading rsa-4.9-py3-none-any.whl.metadata (4.2 kB)\n",
      "Collecting pyasn1>=0.1.3 (from rsa)\n",
      "  Obtaining dependency information for pyasn1>=0.1.3 from https://files.pythonhosted.org/packages/c8/f1/d6a797abb14f6283c0ddff96bbdd46937f64122b8c925cab503dd37f8214/pyasn1-0.6.1-py3-none-any.whl.metadata\n",
      "  Downloading pyasn1-0.6.1-py3-none-any.whl.metadata (8.4 kB)\n",
      "Downloading rsa-4.9-py3-none-any.whl (34 kB)\n",
      "Downloading pyasn1-0.6.1-py3-none-any.whl (83 kB)\n",
      "   ---------------------------------------- 0.0/83.1 kB ? eta -:--:--\n",
      "   -------------- ------------------------- 30.7/83.1 kB 1.4 MB/s eta 0:00:01\n",
      "   ---------------------------------------- 83.1/83.1 kB 1.6 MB/s eta 0:00:00\n",
      "Installing collected packages: pyasn1, rsa\n"
     ]
    },
    {
     "name": "stderr",
     "output_type": "stream",
     "text": [
      "  WARNING: Failed to write executable - trying to use .deleteme logic\n",
      "ERROR: Could not install packages due to an OSError: [WinError 2] The system cannot find the file specified: 'C:\\\\Python311\\\\Scripts\\\\pyrsa-decrypt.exe' -> 'C:\\\\Python311\\\\Scripts\\\\pyrsa-decrypt.exe.deleteme'\n",
      "\n",
      "\n",
      "[notice] A new release of pip is available: 23.2.1 -> 24.3.1\n",
      "[notice] To update, run: python.exe -m pip install --upgrade pip\n"
     ]
    }
   ],
   "source": [
    "!pip install rsa"
   ]
  },
  {
   "cell_type": "code",
   "execution_count": null,
   "metadata": {
    "colab": {
     "base_uri": "https://localhost:8080/"
    },
    "id": "NmYcAxZgbwpn",
    "outputId": "11977f43-bab9-4120-bfe3-ba6aa72d3eb3"
   },
   "outputs": [
    {
     "name": "stdout",
     "output_type": "stream",
     "text": [
      "Alice chose s as 11\n",
      "Bob chose p as 1231, q as 41, r as 1053 with generator as 3\n",
      "Bob's private key is 5\n",
      "Bob's public key is 243\n",
      "Alice received successfully\n",
      "Alice's private key is 9\n",
      "Alice's public key is 1218\n",
      "Alice's shared secret key is 469\n",
      "Bob received successfully\n",
      "Bob's shared secret key is 469\n"
     ]
    }
   ],
   "source": [
    "from sympy import randprime, primitive_root, factorint, isprime\n",
    "import rsa\n",
    "import random\n",
    "\n",
    "\n",
    "# define participant with  authenticated DH protocol\n",
    "class DHParticipant:\n",
    "\n",
    "    __name: str\n",
    "    __private_key: int\n",
    "    __public_key: int\n",
    "    __shared_private_key: int\n",
    "    __p: int\n",
    "\n",
    "    # constructor of participant class\n",
    "    def __init__(self, name: str):\n",
    "        self.__name = name\n",
    "\n",
    "    # return q as a prime which the biggest prime factor of p - 1\n",
    "    def __generate_q(self, p: int):\n",
    "        # find list factors of p - 1\n",
    "        factors = factorint(p - 1)\n",
    "        # filter prime number in factor list\n",
    "        prime_factors = [factor for factor in factors if isprime(factor)]\n",
    "        # return the biggest factor in prime factor list\n",
    "        return max(prime_factors) if prime_factors else None\n",
    "\n",
    "    # return r as a random number as:\n",
    "    #  (r**2) mod p != 1\n",
    "    #  (g**r) mod p != 1\n",
    "    #  (g**r) mod p != p - 1\n",
    "    def __generate_r(self, p: int, g: int):\n",
    "        while True:\n",
    "            r = random.randint(2, p - 2)\n",
    "            if pow(r, 2, p) != 1 and pow(g, r, p) != 1 and pow(g, r, p) != p - 1:\n",
    "                return r\n",
    "\n",
    "    # sign a message with RSA algorithm for authentication purpose\n",
    "    # return (rsa public key, signature)\n",
    "    def __generate_authentication(self, msg: str):\n",
    "        rsa_public_key, rsa_private_key = rsa.newkeys(2048)\n",
    "        signature = rsa.sign(msg.encode(\"utf-8\"), rsa_private_key, \"SHA-256\")\n",
    "\n",
    "        return (rsa_public_key, signature)\n",
    "\n",
    "    # verify a message with public key and signature using RSA algorithm\n",
    "    # return an error if authentication failed\n",
    "    def __verify_authentication(self, msg: str, authentications):\n",
    "        (rsa_public_key, signature) = authentications\n",
    "\n",
    "        return rsa.verify(msg.encode(\"utf-8\"), signature, rsa_public_key)\n",
    "\n",
    "    # generate s as the minimum size of p\n",
    "    # means that if s= 4, p need at least 4 bits to present\n",
    "    def generate_s(self):\n",
    "        # limit min between 2**8 to 2**16\n",
    "        s = random.randint(8, 16)\n",
    "\n",
    "        print(self.__name, f\"chose s as {s}\")\n",
    "\n",
    "        return s\n",
    "\n",
    "    # generate parameters based on s\n",
    "    # return necessary params, public key and authentication info using RSA algorithm\n",
    "    def select_parameters(self, s: int):\n",
    "        # select p as a prime with s bits\n",
    "        p = randprime(2 ** (s - 1), 2**s)\n",
    "        self.__p = p\n",
    "        # calculate g as primitive root of p\n",
    "        g = primitive_root(p)\n",
    "        # generate q, r based on p, g\n",
    "        q = self.__generate_q(p)\n",
    "        r = self.__generate_r(p, g)\n",
    "\n",
    "        print(f\"{self.__name} chose p as {p}, q as {q}, r as {r} with generator as {g}\")\n",
    "\n",
    "        # select private key randomly from 1 to (q - 1)\n",
    "        self_private_key = random.randint(1, q - 1)\n",
    "        self.__private_key = self_private_key\n",
    "        # calculate public of its own as (g**(private key)) mod p\n",
    "        self_public_key = pow(g, self_private_key, p)\n",
    "        self.__public_key = self_public_key\n",
    "\n",
    "        print(f\"{self.__name}'s private key is {self.__private_key}\")\n",
    "        print(f\"{self.__name}'s public key is {self.__public_key}\")\n",
    "\n",
    "        # generate authentication message based on parameters generated\n",
    "        message_auth = f\"{g},{p},{q},{r},{self_public_key}\"\n",
    "        auth = self.__generate_authentication(message_auth)\n",
    "\n",
    "        return (g, p, q, r), self_public_key, auth\n",
    "\n",
    "    # receive params from partner, calculate public, private and shared secret key\n",
    "    # return public key, authentication info using RSA algorithm\n",
    "    def receive_initial_parameters(self, params):\n",
    "        (g, p, q, r), public_key, auth = params\n",
    "        self.__p = p\n",
    "        # create authentication message to validate received params\n",
    "        message_auth = f\"{g},{p},{q},{r},{public_key}\"\n",
    "        # verify message, throw error if not valid\n",
    "        self.__verify_authentication(message_auth, auth)\n",
    "        print(f\"{self.__name} received successfully\")\n",
    "        # generate private key based on received q\n",
    "        # private key is randomly from 1 to (q - 1)\n",
    "        self_private_key = random.randint(1, q - 1)\n",
    "        self.__private_key = self_private_key\n",
    "        # calculate public of its own as (g**(private key)) mod p\n",
    "        self_public_key = pow(g, self_private_key, p)\n",
    "        self.__public_key = self_public_key\n",
    "\n",
    "        print(f\"{self.__name}'s private key is {self.__private_key}\")\n",
    "        print(f\"{self.__name}'s public key is {self.__public_key}\")\n",
    "\n",
    "        # shared secret between 2 participants calculated as ((g **(private key of p1) **(private key of p2))) mod p\n",
    "        # or as (public key of partner **(secret key of its own)) mod p\n",
    "        shared_secret = pow(public_key, self_private_key, p)\n",
    "        self.__shared_private_key = shared_secret\n",
    "\n",
    "        print(f\"{self.__name}'s shared secret key is {self.__shared_private_key}\")\n",
    "\n",
    "        # generate authentication params for partner\n",
    "        auth = self.__generate_authentication(f\"{self_public_key}\")\n",
    "\n",
    "        return self_public_key, auth\n",
    "\n",
    "    # receive authentication params from partner, calculate shared secret key\n",
    "    def receive_partner_public_key(self, partner_public_key, auth_params):\n",
    "        # verify authentication params from partner, then verify it\n",
    "        # throw error if it's invalid\n",
    "        self.__verify_authentication(f\"{partner_public_key}\", auth_params)\n",
    "\n",
    "        print(f\"{self.__name} received successfully\")\n",
    "\n",
    "        # shared secret between 2 participants calculated as ((g **(private key of p1) **(private key of p2))) mod p\n",
    "        # or as (public key of partner **(secret key of its own)) mod p\n",
    "        shared_secret = pow(partner_public_key, self.__private_key, self.__p)\n",
    "        self.__shared_private_key = shared_secret\n",
    "\n",
    "        print(f\"{self.__name}'s shared secret key is {self.__shared_private_key}\")\n",
    "\n",
    "\n",
    "# initial 2 object Alice and Bob\n",
    "alice = DHParticipant(\"Alice\")\n",
    "bob = DHParticipant(\"Bob\")\n",
    "# step 1: Alice select s as minimum size of the prime\n",
    "s = alice.generate_s()\n",
    "# step 2: Bob generate params based on s\n",
    "params = bob.select_parameters(s)\n",
    "\n",
    "try:\n",
    "    # step 3: Alice receive the params from Bob, verify then calculate the shared secret for itself\n",
    "    alice_public_key, auth_params = alice.receive_initial_parameters(params)\n",
    "    # step 4: Bob receive the authentication params from Alice, verify then calculate the shared secret itself\n",
    "    bob.receive_partner_public_key(alice_public_key, auth_params)\n",
    "except:\n",
    "    print(\"invalid signature!\")"
   ]
  },
  {
   "cell_type": "markdown",
   "metadata": {
    "id": "q9lVb8Jqx0tl"
   },
   "source": [
    "**Exercise 4**\n",
    "<br/>\n",
    "Trusted Third Party (TTP) might be involved in a fair non-repudiation protocol in different extents\n",
    "\n",
    "- **In-line TTP** acts as an intermediary between the originator and the recipient\n",
    "  and intervenes directly in a non-repudiation service (e.g. the protocol in Slide\n",
    "  36).\n",
    "- **On-line TTP** is actively involved in every instance of a non-repudiation service (e.g. the protocol in Slide 38).\n",
    "- **Off-line TTP** supports non-repudiation without being involved in each instance of a service\n",
    "\n",
    "Design (or find in the literature, e.g., in IEEE CSF 1997, “An Efficient Non repudiation Protocol”) a fair non-repudiation protocol using an **off-line TTP** which\n",
    "does not need to be involved unless the originator or the recipient misbehaves.\n"
   ]
  },
  {
   "cell_type": "code",
   "execution_count": null,
   "metadata": {
    "id": "wwz9wF_o4PgB"
   },
   "outputs": [],
   "source": []
  }
 ],
 "metadata": {
  "colab": {
   "provenance": []
  },
  "kernelspec": {
   "display_name": "Python 3",
   "name": "python3"
  },
  "language_info": {
   "codemirror_mode": {
    "name": "ipython",
    "version": 3
   },
   "file_extension": ".py",
   "mimetype": "text/x-python",
   "name": "python",
   "nbconvert_exporter": "python",
   "pygments_lexer": "ipython3",
   "version": "3.11.5"
  }
 },
 "nbformat": 4,
 "nbformat_minor": 0
}
